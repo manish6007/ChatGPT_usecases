{
 "cells": [
  {
   "cell_type": "code",
   "execution_count": 1,
   "id": "c331710a",
   "metadata": {},
   "outputs": [],
   "source": [
    "import streamlit as st\n",
    "from langchain.llms import OpenAI\n",
    "from langchain.text_splitter import CharacterTextSplitter\n",
    "from langchain.embeddings import OpenAIEmbeddings\n",
    "from langchain.vectorstores import Chroma\n",
    "from langchain.chains import RetrievalQA"
   ]
  },
  {
   "cell_type": "code",
   "execution_count": 2,
   "id": "1a614815",
   "metadata": {},
   "outputs": [
    {
     "name": "stderr",
     "output_type": "stream",
     "text": [
      "2023-06-22 21:16:59.879 \n",
      "  \u001b[33m\u001b[1mWarning:\u001b[0m to view this Streamlit app on a browser, run it with the following\n",
      "  command:\n",
      "\n",
      "    streamlit run C:\\Users\\manis\\anaconda3\\new_anaconda\\lib\\site-packages\\ipykernel_launcher.py [ARGUMENTS]\n"
     ]
    }
   ],
   "source": [
    "def generate_response(uploaded_file, openai_api_key, query_text):\n",
    "    # Load document if file is uploaded\n",
    "    if uploaded_file is not None:\n",
    "        documents = [uploaded_file.read().decode()]\n",
    "        # Split documents into chunks\n",
    "        text_splitter = CharacterTextSplitter(chunk_size=1000, chunk_overlap=0)\n",
    "        texts = text_splitter.create_documents(documents)\n",
    "        # Select embeddings\n",
    "        embeddings = OpenAIEmbeddings(openai_api_key=openai_api_key)\n",
    "        # Create a vectorstore from documents\n",
    "        db = Chroma.from_documents(texts, embeddings)\n",
    "        # Create retriever interface\n",
    "        retriever = db.as_retriever()\n",
    "        # Create QA chain\n",
    "        qa = RetrievalQA.from_chain_type(llm=OpenAI(openai_api_key=openai_api_key), chain_type='stuff', retriever=retriever)\n",
    "        return qa.run(query_text)\n",
    "\n",
    "# Page title\n",
    "st.set_page_config(page_title='🦜🔗 Ask the Doc App')\n",
    "st.title('🦜🔗 Ask the Doc App')\n",
    "\n",
    "# File upload\n",
    "uploaded_file = st.file_uploader('Upload an article', type='txt')\n",
    "# Query text\n",
    "query_text = st.text_input('Enter your question:', placeholder = 'Please provide a short summary.', disabled=not uploaded_file)\n",
    "\n",
    "# Form input and query\n",
    "result = []\n",
    "with st.form('myform', clear_on_submit=True):\n",
    "    openai_api_key = st.text_input('OpenAI API Key', type='password', disabled=not (uploaded_file and query_text))\n",
    "    submitted = st.form_submit_button('Submit', disabled=not(uploaded_file and query_text))\n",
    "    if submitted and openai_api_key.startswith('sk-'):\n",
    "        with st.spinner('Calculating...'):\n",
    "            response = generate_response(uploaded_file, openai_api_key, query_text)\n",
    "            result.append(response)\n",
    "            del openai_api_key\n",
    "\n",
    "if len(result):\n",
    "    st.info(response)"
   ]
  },
  {
   "cell_type": "code",
   "execution_count": null,
   "id": "bad3a090",
   "metadata": {},
   "outputs": [],
   "source": []
  }
 ],
 "metadata": {
  "kernelspec": {
   "display_name": "Python 3 (ipykernel)",
   "language": "python",
   "name": "python3"
  },
  "language_info": {
   "codemirror_mode": {
    "name": "ipython",
    "version": 3
   },
   "file_extension": ".py",
   "mimetype": "text/x-python",
   "name": "python",
   "nbconvert_exporter": "python",
   "pygments_lexer": "ipython3",
   "version": "3.10.9"
  }
 },
 "nbformat": 4,
 "nbformat_minor": 5
}
